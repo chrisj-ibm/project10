{
 "cells": [
  {
   "cell_type": "code",
   "execution_count": null,
   "id": "answering-presentation",
   "metadata": {
    "id": "9b27a295-2240-4172-a603-88ea84263673"
   },
   "outputs": [],
   "source": [
    "import os\n",
    "ENV1 = os.getenv('ENV1')\n",
    "ENV2 = os.getenv('ENV2')\n",
    " \n",
    "#script with arg\n",
    "\n",
    "import sys\n",
    "print (\"The script has the name %s\" % (sys.argv[0]))\n",
    "arguments = len(sys.argv) - 1\n",
    "print (\"The script is called with %i arguments\" % (arguments))\n"
   ]
  }
 ],
 "metadata": {
  "kernelspec": {
   "display_name": "Python 3.8",
   "language": "python",
   "name": "python3"
  },
  "language_info": {
   "codemirror_mode": {
    "name": "ipython",
    "version": 3
   },
   "file_extension": ".py",
   "mimetype": "text/x-python",
   "name": "python",
   "nbconvert_exporter": "python",
   "pygments_lexer": "ipython3",
   "version": "3.8.11"
  }
 },
 "nbformat": 4,
 "nbformat_minor": 5
}
